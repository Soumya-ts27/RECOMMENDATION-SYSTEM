{
 "cells": [
  {
   "cell_type": "code",
   "execution_count": 1,
   "id": "5de3eb26-dff2-4ac3-b8f3-c41f585969b9",
   "metadata": {},
   "outputs": [
    {
     "name": "stdout",
     "output_type": "stream",
     "text": [
      "Evaluating RMSE, MAE of algorithm SVD on 5 split(s).\n",
      "\n",
      "                  Fold 1  Fold 2  Fold 3  Fold 4  Fold 5  Mean    Std     \n",
      "RMSE (testset)    1.0298  1.0044  1.4793  0.9732  1.1251  1.1224  0.1856  \n",
      "MAE (testset)     0.9410  1.0036  1.0847  0.8189  1.1133  0.9923  0.1058  \n",
      "Fit time          0.00    0.00    0.00    0.00    0.00    0.00    0.00    \n",
      "Test time         0.00    0.00    0.00    0.00    0.00    0.00    0.00    \n",
      "Predicted rating for User 1 on Item 104: 3.52\n"
     ]
    }
   ],
   "source": [
    "import pandas as pd\n",
    "import numpy as np\n",
    "from sklearn.model_selection import train_test_split\n",
    "from surprise import Dataset, Reader, SVD\n",
    "from surprise.model_selection import cross_validate\n",
    "\n",
    "# Load dataset (MovieLens dataset or a custom dataset)\n",
    "data = {\n",
    "    'user_id': [1, 1, 1, 2, 2, 3, 3, 4, 4, 5],\n",
    "    'item_id': [101, 102, 103, 101, 104, 102, 105, 103, 105, 101],\n",
    "    'rating': [5, 4, 3, 5, 2, 3, 4, 5, 4, 3]\n",
    "}\n",
    "df = pd.DataFrame(data)\n",
    "\n",
    "# Define Surprise reader format\n",
    "reader = Reader(rating_scale=(1, 5))\n",
    "data = Dataset.load_from_df(df[['user_id', 'item_id', 'rating']], reader)\n",
    "\n",
    "# Train-test split\n",
    "trainset, testset = train_test_split(df, test_size=0.2, random_state=42)\n",
    "\n",
    "# Use Singular Value Decomposition (SVD) for matrix factorization\n",
    "model = SVD()\n",
    "cross_validate(model, data, cv=5, verbose=True)\n",
    "\n",
    "# Train the model on full dataset\n",
    "trainset = data.build_full_trainset()\n",
    "model.fit(trainset)\n",
    "\n",
    "# Make predictions for a specific user and item\n",
    "user_id = 1\n",
    "item_id = 104\n",
    "pred = model.predict(user_id, item_id)\n",
    "print(f\"Predicted rating for User {user_id} on Item {item_id}: {pred.est:.2f}\")\n"
   ]
  }
 ],
 "metadata": {
  "kernelspec": {
   "display_name": "Python 3 (ipykernel)",
   "language": "python",
   "name": "python3"
  },
  "language_info": {
   "codemirror_mode": {
    "name": "ipython",
    "version": 3
   },
   "file_extension": ".py",
   "mimetype": "text/x-python",
   "name": "python",
   "nbconvert_exporter": "python",
   "pygments_lexer": "ipython3",
   "version": "3.11.7"
  }
 },
 "nbformat": 4,
 "nbformat_minor": 5
}
